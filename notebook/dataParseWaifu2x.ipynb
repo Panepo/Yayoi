{
 "cells": [
  {
   "cell_type": "code",
   "execution_count": 18,
   "metadata": {},
   "outputs": [],
   "source": [
    "import cv2\n",
    "import numpy as np\n",
    "\n",
    "import os\n",
    "import time\n",
    "import math\n",
    "\n",
    "from utility.h5data import h5DataWrite"
   ]
  },
  {
   "cell_type": "code",
   "execution_count": 19,
   "metadata": {},
   "outputs": [],
   "source": [
    "DATA_FORMAT = \".png\"\n",
    "DATAPATH_TRAIN = \"./imageTrain/\"\n",
    "DATAPATH_VALIDATE = \"./imageValidate/\"\n",
    "\n",
    "SIZE_X = 160\n",
    "SIZE_Y = 120\n",
    "\n",
    "SCALE = 4\n",
    "INTERPOLATION = cv2.INTER_LINEAR\n",
    "\n",
    "FILENAME_TRAIN = \"yayoi_waifu2x_dataTrain_\" + str(SCALE)  + \".h5\"\n",
    "FILENAME_VALIDATE = \"yayoi_waifu2x_dataValidate_\" + str(SCALE) + \".h5\""
   ]
  },
  {
   "cell_type": "markdown",
   "metadata": {},
   "source": [
    "### OpenCV interpolation methods\n",
    "INTER_NEAREST - a nearest-neighbor interpolation<br>\n",
    "INTER_LINEAR - a bilinear interpolation (used by default)<br>\n",
    "INTER_AREA - resampling using pixel area relation. It may be a preferred method for image decimation, as it gives moire’-free results. But when the image is zoomed, it is similar to the INTER_NEAREST method.<br>\n",
    "INTER_CUBIC - a bicubic interpolation over 4x4 pixel neighborhood<br>\n",
    "INTER_LANCZOS4 - a Lanczos interpolation over 8x8 pixel neighborhood<br>"
   ]
  },
  {
   "cell_type": "code",
   "execution_count": 20,
   "metadata": {},
   "outputs": [],
   "source": [
    "def parseData(_path):\n",
    "    names = os.listdir(_path)\n",
    "    names = sorted(names)\n",
    "    nums = names.__len__()\n",
    "\n",
    "    data = []\n",
    "    label = []\n",
    "\n",
    "    for i in range(nums):\n",
    "        if DATA_FORMAT in names[i]:\n",
    "            name = _path + names[i]\n",
    "\n",
    "            hr_img = cv2.imread(name, cv2.IMREAD_COLOR)\n",
    "            lr_img = cv2.resize(hr_img, (int(SIZE_X / SCALE), int(SIZE_Y / SCALE)), INTERPOLATION)\n",
    "            lr_img = cv2.resize(lr_img, (SIZE_X, SIZE_Y), INTERPOLATION)\n",
    "            \n",
    "            hr_img_mat = np.asarray(hr_img)\n",
    "            hr_img_matx = np.array([[hr_img_mat[:,:,0], hr_img_mat[:,:,1], hr_img_mat[:,:,2]]])/255.0\n",
    "            \n",
    "            lr_img_mat = np.asarray(lr_img)\n",
    "            lr_img_matx = np.array([[lr_img_mat[:,:,0], lr_img_mat[:,:,1], lr_img_mat[:,:,2]]])/255.0\n",
    "                        \n",
    "            label.append(hr_img_matx)\n",
    "            data.append(lr_img_matx)\n",
    "    \n",
    "    data = np.array(data, dtype=float)\n",
    "    label = np.array(label, dtype=float)\n",
    "    return data, label"
   ]
  },
  {
   "cell_type": "code",
   "execution_count": 21,
   "metadata": {},
   "outputs": [],
   "source": [
    "tick1 = cv2.getTickCount()"
   ]
  },
  {
   "cell_type": "code",
   "execution_count": 22,
   "metadata": {},
   "outputs": [
    {
     "name": "stdout",
     "output_type": "stream",
     "text": [
      "yayoi_waifu2x_dataTrain_4.h5 generated\n",
      "yayoi_waifu2x_dataValidate_4.h5 generated\n"
     ]
    }
   ],
   "source": [
    "data, label = parseData(DATAPATH_TRAIN)\n",
    "h5DataWrite(data, label, FILENAME_TRAIN)\n",
    "print(FILENAME_TRAIN + \" generated\")\n",
    "data, label = parseData(DATAPATH_VALIDATE)\n",
    "h5DataWrite(data, label, FILENAME_VALIDATE)\n",
    "print(FILENAME_VALIDATE + \" generated\")"
   ]
  },
  {
   "cell_type": "code",
   "execution_count": 23,
   "metadata": {},
   "outputs": [
    {
     "name": "stdout",
     "output_type": "stream",
     "text": [
      "processed time: 476 ms\n"
     ]
    }
   ],
   "source": [
    "tick2 = cv2.getTickCount()\n",
    "tick = math.floor( ((tick2 - tick1) * 1000) / cv2.getTickFrequency())\n",
    "\n",
    "if tick >= 60000:\n",
    "    mins = math.floor(tick / 60000)\n",
    "    secs = math.floor((tick - mins * 60000) / 1000)\n",
    "    msec = tick - mins * 60000 - secs * 1000\n",
    "    print(\"processed time: \" + str(mins) + \" mins \" + str(secs) + \" secs \" + str(msec) + \" ms\")\n",
    "elif tick >= 1000:\n",
    "    secs = math.floor(tick / 1000)\n",
    "    msec = tick - secs * 1000\n",
    "    print(\"processed time: \" + str(secs) + \" secs \" + str(msec) + \" ms\")\n",
    "else:\n",
    "    print(\"processed time: \" + str(tick) + \" ms\")"
   ]
  }
 ],
 "metadata": {
  "kernelspec": {
   "display_name": "Python 3",
   "language": "python",
   "name": "python3"
  },
  "language_info": {
   "codemirror_mode": {
    "name": "ipython",
    "version": 3
   },
   "file_extension": ".py",
   "mimetype": "text/x-python",
   "name": "python",
   "nbconvert_exporter": "python",
   "pygments_lexer": "ipython3",
   "version": "3.6.5"
  }
 },
 "nbformat": 4,
 "nbformat_minor": 2
}
