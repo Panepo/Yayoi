{
 "cells": [
  {
   "cell_type": "code",
   "execution_count": 12,
   "metadata": {},
   "outputs": [],
   "source": [
    "import os\n",
    "import h5py\n",
    "\n",
    "import cv2\n",
    "import numpy\n",
    "\n",
    "import time\n",
    "import math"
   ]
  },
  {
   "cell_type": "code",
   "execution_count": 13,
   "metadata": {},
   "outputs": [],
   "source": [
    "DATA_FORMAT = \".png\"\n",
    "DATAPATH_TRAIN = \"./imageTrain/\"\n",
    "DATAPATH_VALIDATE = \"./imageValidate/\"\n",
    "\n",
    "RANDOM_CROP = 30\n",
    "SIZE_PATCH = 32\n",
    "SIZE_CONV = 6\n",
    "SIZE_LABEL = (SIZE_PATCH - SIZE_CONV * 2)\n",
    "\n",
    "SCALE = 2\n",
    "INTERPOLATION = cv2.INTER_CUBIC\n",
    "\n",
    "FILENAME_TRAIN = \"dataTrain_\" + str(SCALE) + \".h5\"\n",
    "FILENAME_VALIDATE = \"dataValidate_\" + str(SCALE) + \".h5\""
   ]
  },
  {
   "cell_type": "raw",
   "metadata": {},
   "source": [
    "INTER_NEAREST - a nearest-neighbor interpolation\n",
    "INTER_LINEAR - a bilinear interpolation (used by default)\n",
    "INTER_AREA - resampling using pixel area relation. It may be a preferred method for image decimation, as it gives moire’-free results. But when the image is zoomed, it is similar to the INTER_NEAREST method.\n",
    "INTER_CUBIC - a bicubic interpolation over 4x4 pixel neighborhood\n",
    "INTER_LANCZOS4 - a Lanczos interpolation over 8x8 pixel neighborhood"
   ]
  },
  {
   "cell_type": "code",
   "execution_count": 14,
   "metadata": {},
   "outputs": [],
   "source": [
    "def parseData(_path):\n",
    "    names = os.listdir(_path)\n",
    "    names = sorted(names)\n",
    "    nums = names.__len__()\n",
    "\n",
    "    data = numpy.zeros((nums * RANDOM_CROP, 1, SIZE_PATCH, SIZE_PATCH), dtype=numpy.double)\n",
    "    label = numpy.zeros((nums * RANDOM_CROP, 1, SIZE_LABEL, SIZE_LABEL), dtype=numpy.double)\n",
    "\n",
    "    for i in range(2):\n",
    "        if DATA_FORMAT in names[i]:\n",
    "            name = _path + names[i]\n",
    "\n",
    "            hr_img = cv2.imread(name, cv2.IMREAD_COLOR)\n",
    "            #hr_img = cv2.cvtColor(hr_img, cv2.COLOR_BGR2RGB)\n",
    "            shape = hr_img.shape\n",
    "\n",
    "            hr_img = cv2.cvtColor(hr_img, cv2.COLOR_BGR2YCrCb)\n",
    "            hr_img = hr_img[:, :, 0]\n",
    "\n",
    "            lr_img = cv2.resize(hr_img, (int(shape[1] / SCALE), int(shape[0] / SCALE)), INTERPOLATION)\n",
    "            lr_img = cv2.resize(lr_img, (shape[1], shape[0]), INTERPOLATION)\n",
    "\n",
    "            Points_x = numpy.random.randint(0, min(shape[0], shape[1]) - SIZE_PATCH, RANDOM_CROP)\n",
    "            Points_y = numpy.random.randint(0, min(shape[0], shape[1]) - SIZE_PATCH, RANDOM_CROP)\n",
    "\n",
    "            for j in range(RANDOM_CROP):\n",
    "                lr_patch = lr_img[Points_x[j]: Points_x[j] + SIZE_PATCH, Points_y[j]: Points_y[j] + SIZE_PATCH]\n",
    "                hr_patch = hr_img[Points_x[j]: Points_x[j] + SIZE_PATCH, Points_y[j]: Points_y[j] + SIZE_PATCH]\n",
    "\n",
    "                lr_patch = lr_patch.astype(float) / 255.\n",
    "                hr_patch = hr_patch.astype(float) / 255.\n",
    "\n",
    "                data[i * RANDOM_CROP + j, 0, :, :] = lr_patch\n",
    "                label[i * RANDOM_CROP + j, 0, :, :] = hr_patch[SIZE_CONV: -SIZE_CONV, SIZE_CONV: -SIZE_CONV]\n",
    "\n",
    "                #plt.figure(figsize=(16,16))\n",
    "                #plt.subplot(1,2,1)\n",
    "                #plt.title('lr')\n",
    "                #plt.imshow(lr_patch)\n",
    "                #plt.subplot(1,2,2)\n",
    "                #plt.title('hr')\n",
    "                #plt.imshow(hr_patch)\n",
    "    \n",
    "    return data, label"
   ]
  },
  {
   "cell_type": "code",
   "execution_count": 15,
   "metadata": {},
   "outputs": [],
   "source": [
    "BLOCK_STEP = 16\n",
    "BLOCK_SIZE = 32"
   ]
  },
  {
   "cell_type": "code",
   "execution_count": 16,
   "metadata": {},
   "outputs": [],
   "source": [
    "def parseCropData(_path):\n",
    "    names = os.listdir(_path)\n",
    "    names = sorted(names)\n",
    "    nums = names.__len__()\n",
    "\n",
    "    data = []\n",
    "    label = []\n",
    "\n",
    "    for i in range(nums):\n",
    "        if DATA_FORMAT in names[i]:\n",
    "            name = _path + names[i]\n",
    "            hr_img = cv2.imread(name, cv2.IMREAD_COLOR)\n",
    "            hr_img = cv2.cvtColor(hr_img, cv2.COLOR_BGR2YCrCb)\n",
    "            hr_img = hr_img[:, :, 0]\n",
    "            shape = hr_img.shape\n",
    "\n",
    "            lr_img = cv2.resize(hr_img, (int(shape[1] / SCALE), int(shape[0] / SCALE)))\n",
    "            lr_img = cv2.resize(lr_img, (shape[1], shape[0]))\n",
    "\n",
    "            width_num = (shape[0] - (BLOCK_SIZE - BLOCK_STEP) * 2) / BLOCK_STEP\n",
    "            height_num = (shape[1] - (BLOCK_SIZE - BLOCK_STEP) * 2) / BLOCK_STEP\n",
    "            for k in range(int(width_num)):\n",
    "                for j in range(int(height_num)):\n",
    "                    x = k * BLOCK_STEP\n",
    "                    y = j * BLOCK_STEP\n",
    "                    hr_patch = hr_img[x: x + BLOCK_SIZE, y: y + BLOCK_SIZE]\n",
    "                    lr_patch = lr_img[x: x + BLOCK_SIZE, y: y + BLOCK_SIZE]\n",
    "\n",
    "                    lr_patch = lr_patch.astype(float) / 255.\n",
    "                    hr_patch = hr_patch.astype(float) / 255.\n",
    "\n",
    "                    lr = numpy.zeros((1, SIZE_PATCH, SIZE_PATCH), dtype=numpy.double)\n",
    "                    hr = numpy.zeros((1, SIZE_LABEL, SIZE_LABEL), dtype=numpy.double)\n",
    "\n",
    "                    lr[0, :, :] = lr_patch\n",
    "                    hr[0, :, :] = hr_patch[SIZE_CONV: -SIZE_CONV, SIZE_CONV: -SIZE_CONV]\n",
    "\n",
    "                    data.append(lr)\n",
    "                    label.append(hr)\n",
    "\n",
    "    data = numpy.array(data, dtype=float)\n",
    "    label = numpy.array(label, dtype=float)\n",
    "    return data, label"
   ]
  },
  {
   "cell_type": "code",
   "execution_count": 17,
   "metadata": {},
   "outputs": [],
   "source": [
    "def h5DataWrite(data, labels, output_filename):\n",
    "    x = data.astype(numpy.float32)\n",
    "    y = labels.astype(numpy.float32)\n",
    "\n",
    "    with h5py.File(output_filename, 'w') as h:\n",
    "        h.create_dataset('data', data=x, shape=x.shape)\n",
    "        h.create_dataset('label', data=y, shape=y.shape)"
   ]
  },
  {
   "cell_type": "code",
   "execution_count": 18,
   "metadata": {},
   "outputs": [],
   "source": [
    "tick1 = cv2.getTickCount()"
   ]
  },
  {
   "cell_type": "code",
   "execution_count": 19,
   "metadata": {},
   "outputs": [
    {
     "name": "stdout",
     "output_type": "stream",
     "text": [
      "dataTrain_2.h5 generated\n",
      "dataValidate_2.h5 generated\n"
     ]
    }
   ],
   "source": [
    "data, label = parseCropData(DATAPATH_TRAIN)\n",
    "h5DataWrite(data, label, FILENAME_TRAIN)\n",
    "print(FILENAME_TRAIN + \" generated\")\n",
    "data, label = parseData(DATAPATH_VALIDATE)\n",
    "h5DataWrite(data, label, FILENAME_VALIDATE)\n",
    "print(FILENAME_VALIDATE + \" generated\")"
   ]
  },
  {
   "cell_type": "code",
   "execution_count": 20,
   "metadata": {},
   "outputs": [
    {
     "name": "stdout",
     "output_type": "stream",
     "text": [
      "processed time: 2129 ms\n"
     ]
    }
   ],
   "source": [
    "tick2 = cv2.getTickCount()\n",
    "tick = math.floor( ((tick2 - tick1) * 1000) / cv2.getTickFrequency())\n",
    "print(\"processed time: \" + str(tick) + \" ms\")"
   ]
  }
 ],
 "metadata": {
  "kernelspec": {
   "display_name": "Python 3",
   "language": "python",
   "name": "python3"
  },
  "language_info": {
   "codemirror_mode": {
    "name": "ipython",
    "version": 3
   },
   "file_extension": ".py",
   "mimetype": "text/x-python",
   "name": "python",
   "nbconvert_exporter": "python",
   "pygments_lexer": "ipython3",
   "version": "3.6.5"
  }
 },
 "nbformat": 4,
 "nbformat_minor": 2
}
