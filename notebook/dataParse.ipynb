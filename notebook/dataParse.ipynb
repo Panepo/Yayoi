{
 "cells": [
  {
   "cell_type": "code",
   "execution_count": 49,
   "metadata": {},
   "outputs": [],
   "source": [
    "import os\n",
    "import h5py\n",
    "\n",
    "import cv2\n",
    "import numpy\n",
    "\n",
    "from matplotlib import pyplot as plt\n",
    "%matplotlib inline\n",
    "import seaborn as sns"
   ]
  },
  {
   "cell_type": "code",
   "execution_count": 50,
   "metadata": {},
   "outputs": [],
   "source": [
    "NAME_CROP = \"crop_train.h5\"\n",
    "NAME_TEST = \"test.h5\""
   ]
  },
  {
   "cell_type": "code",
   "execution_count": 51,
   "metadata": {},
   "outputs": [],
   "source": [
    "DATA_PATH = \"./image/\"\n",
    "DATA_FORMAT = \".png\"\n",
    "\n",
    "Random_Crop = 30\n",
    "Patch_size = 32\n",
    "label_size = 20\n",
    "conv_side = 6\n",
    "scale = 2"
   ]
  },
  {
   "cell_type": "code",
   "execution_count": 52,
   "metadata": {},
   "outputs": [],
   "source": [
    "def prepare_data(_path):\n",
    "    names = os.listdir(_path)\n",
    "    names = sorted(names)\n",
    "    nums = names.__len__()\n",
    "\n",
    "    data = numpy.zeros((nums * Random_Crop, 1, Patch_size, Patch_size), dtype=numpy.double)\n",
    "    label = numpy.zeros((nums * Random_Crop, 1, label_size, label_size), dtype=numpy.double)\n",
    "\n",
    "    for i in range(2):\n",
    "        if DATA_FORMAT in names[i]:\n",
    "            name = _path + names[i]\n",
    "\n",
    "            hr_img = cv2.imread(name, cv2.IMREAD_COLOR)\n",
    "            #hr_img = cv2.cvtColor(hr_img, cv2.COLOR_BGR2RGB)\n",
    "            shape = hr_img.shape\n",
    "\n",
    "            hr_img = cv2.cvtColor(hr_img, cv2.COLOR_BGR2YCrCb)\n",
    "            hr_img = hr_img[:, :, 0]\n",
    "\n",
    "            lr_img = cv2.resize(hr_img, (int(shape[1] / scale), int(shape[0] / scale)))\n",
    "            lr_img = cv2.resize(lr_img, (shape[1], shape[0]))\n",
    "\n",
    "            Points_x = numpy.random.randint(0, min(shape[0], shape[1]) - Patch_size, Random_Crop)\n",
    "            Points_y = numpy.random.randint(0, min(shape[0], shape[1]) - Patch_size, Random_Crop)\n",
    "\n",
    "            for j in range(Random_Crop):\n",
    "                lr_patch = lr_img[Points_x[j]: Points_x[j] + Patch_size, Points_y[j]: Points_y[j] + Patch_size]\n",
    "                hr_patch = hr_img[Points_x[j]: Points_x[j] + Patch_size, Points_y[j]: Points_y[j] + Patch_size]\n",
    "\n",
    "                lr_patch = lr_patch.astype(float) / 255.\n",
    "                hr_patch = hr_patch.astype(float) / 255.\n",
    "\n",
    "                data[i * Random_Crop + j, 0, :, :] = lr_patch\n",
    "                label[i * Random_Crop + j, 0, :, :] = hr_patch[conv_side: -conv_side, conv_side: -conv_side]\n",
    "\n",
    "                #plt.figure(figsize=(16,16))\n",
    "                #plt.subplot(1,2,1)\n",
    "                #plt.title('lr')\n",
    "                #plt.imshow(lr_patch)\n",
    "                #plt.subplot(1,2,2)\n",
    "                #plt.title('hr')\n",
    "                #plt.imshow(hr_patch)\n",
    "    \n",
    "    return data, label"
   ]
  },
  {
   "cell_type": "code",
   "execution_count": 53,
   "metadata": {},
   "outputs": [],
   "source": [
    "# BORDER_CUT = 8\n",
    "BLOCK_STEP = 16\n",
    "BLOCK_SIZE = 32"
   ]
  },
  {
   "cell_type": "code",
   "execution_count": 54,
   "metadata": {},
   "outputs": [],
   "source": [
    "def prepare_crop_data(_path):\n",
    "    names = os.listdir(_path)\n",
    "    names = sorted(names)\n",
    "    nums = names.__len__()\n",
    "\n",
    "    data = []\n",
    "    label = []\n",
    "\n",
    "    for i in range(nums):\n",
    "        if DATA_FORMAT in names[i]:\n",
    "            name = _path + names[i]\n",
    "            hr_img = cv2.imread(name, cv2.IMREAD_COLOR)\n",
    "            hr_img = cv2.cvtColor(hr_img, cv2.COLOR_BGR2YCrCb)\n",
    "            hr_img = hr_img[:, :, 0]\n",
    "            shape = hr_img.shape\n",
    "\n",
    "            lr_img = cv2.resize(hr_img, (int(shape[1] / scale), int(shape[0] / scale)))\n",
    "            lr_img = cv2.resize(lr_img, (shape[1], shape[0]))\n",
    "\n",
    "            width_num = (shape[0] - (BLOCK_SIZE - BLOCK_STEP) * 2) / BLOCK_STEP\n",
    "            height_num = (shape[1] - (BLOCK_SIZE - BLOCK_STEP) * 2) / BLOCK_STEP\n",
    "            for k in range(int(width_num)):\n",
    "                for j in range(int(height_num)):\n",
    "                    x = k * BLOCK_STEP\n",
    "                    y = j * BLOCK_STEP\n",
    "                    hr_patch = hr_img[x: x + BLOCK_SIZE, y: y + BLOCK_SIZE]\n",
    "                    lr_patch = lr_img[x: x + BLOCK_SIZE, y: y + BLOCK_SIZE]\n",
    "\n",
    "                    lr_patch = lr_patch.astype(float) / 255.\n",
    "                    hr_patch = hr_patch.astype(float) / 255.\n",
    "\n",
    "                    lr = numpy.zeros((1, Patch_size, Patch_size), dtype=numpy.double)\n",
    "                    hr = numpy.zeros((1, label_size, label_size), dtype=numpy.double)\n",
    "\n",
    "                    lr[0, :, :] = lr_patch\n",
    "                    hr[0, :, :] = hr_patch[conv_side: -conv_side, conv_side: -conv_side]\n",
    "\n",
    "                    data.append(lr)\n",
    "                    label.append(hr)\n",
    "\n",
    "    data = numpy.array(data, dtype=float)\n",
    "    label = numpy.array(label, dtype=float)\n",
    "    return data, label"
   ]
  },
  {
   "cell_type": "code",
   "execution_count": 55,
   "metadata": {},
   "outputs": [],
   "source": [
    "def write_hdf5(data, labels, output_filename):\n",
    "    \"\"\"\n",
    "    This function is used to save image data and its label(s) to hdf5 file.\n",
    "    output_file.h5,contain data and label\n",
    "    \"\"\"\n",
    "\n",
    "    x = data.astype(numpy.float32)\n",
    "    y = labels.astype(numpy.float32)\n",
    "\n",
    "    with h5py.File(output_filename, 'w') as h:\n",
    "        h.create_dataset('data', data=x, shape=x.shape)\n",
    "        h.create_dataset('label', data=y, shape=y.shape)\n",
    "        # h.create_dataset()"
   ]
  },
  {
   "cell_type": "code",
   "execution_count": 56,
   "metadata": {},
   "outputs": [
    {
     "name": "stdout",
     "output_type": "stream",
     "text": [
      "crop_train.h5 generated\n",
      "test.h5 generated\n"
     ]
    }
   ],
   "source": [
    "data, label = prepare_crop_data(DATA_PATH)\n",
    "write_hdf5(data, label, NAME_CROP)\n",
    "print(NAME_CROP + \" generated\")\n",
    "data, label = prepare_data(DATA_PATH)\n",
    "write_hdf5(data, label, NAME_TEST)\n",
    "print(NAME_TEST + \" generated\")"
   ]
  }
 ],
 "metadata": {
  "kernelspec": {
   "display_name": "Python 3",
   "language": "python",
   "name": "python3"
  },
  "language_info": {
   "codemirror_mode": {
    "name": "ipython",
    "version": 3
   },
   "file_extension": ".py",
   "mimetype": "text/x-python",
   "name": "python",
   "nbconvert_exporter": "python",
   "pygments_lexer": "ipython3",
   "version": "3.6.5"
  }
 },
 "nbformat": 4,
 "nbformat_minor": 2
}
