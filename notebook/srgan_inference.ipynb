{
 "cells": [
  {
   "cell_type": "code",
   "execution_count": 1,
   "metadata": {},
   "outputs": [
    {
     "name": "stderr",
     "output_type": "stream",
     "text": [
      "/opt/conda/lib/python3.6/site-packages/h5py/__init__.py:36: FutureWarning: Conversion of the second argument of issubdtype from `float` to `np.floating` is deprecated. In future, it will be treated as `np.float64 == np.dtype(float).type`.\n",
      "  from ._conv import register_converters as _register_converters\n",
      "Using TensorFlow backend.\n"
     ]
    }
   ],
   "source": [
    "import cv2\n",
    "import numpy as np\n",
    "import matplotlib.pyplot as plt\n",
    "\n",
    "from network.srgan_deploy import SRGAN"
   ]
  },
  {
   "cell_type": "code",
   "execution_count": 2,
   "metadata": {},
   "outputs": [],
   "source": [
    "gan = SRGAN()\n",
    "inputimg = \"imageValidate/butterfly_GT.bmp\""
   ]
  },
  {
   "cell_type": "code",
   "execution_count": 3,
   "metadata": {},
   "outputs": [],
   "source": [
    "# Load image & scale it\n",
    "img_hr = cv2.imread(inputimg, cv2.IMREAD_COLOR)\n",
    "img_hr = cv2.cvtColor(img_hr, cv2.COLOR_BGR2RGB)\n",
    "\n",
    "img_hr = img_hr.astype(np.float) / 127.5 - 1\n",
    "\n",
    "# Create a low-resolution version of it\n",
    "#lr_shape = (int(img_hr.shape[1]/4), int(img_hr.shape[0]/4))\n",
    "#img_lr = cv2.resize(img_hr, lr_shape, cv2.INTER_CUBIC)\n",
    "img_lr = img_hr\n",
    "\n",
    "# Predict high-resolution version (add batch dimension to image)\n",
    "img_sr = gan.generator.predict(np.expand_dims(img_lr, 0))\n",
    "\n",
    "# Remove batch dimension\n",
    "img_sr = np.squeeze(img_sr, axis=0)"
   ]
  },
  {
   "cell_type": "code",
   "execution_count": 4,
   "metadata": {},
   "outputs": [],
   "source": [
    "pltShow = False\n",
    "\n",
    "if pltShow:\n",
    "    # Images and titles\n",
    "    images = {\n",
    "        'Low Resolution': img_lr, 'SRGAN': img_sr, 'Original': img_hr\n",
    "    }\n",
    "\n",
    "    # Plot the images. Note: rescaling and using squeeze since we are getting batches of size 1                    \n",
    "    fig, axes = plt.subplots(1, 3, figsize=(15, 5))\n",
    "    for i, (title, img) in enumerate(images.items()):\n",
    "        axes[i].imshow(0.5 * img + 0.5)\n",
    "        axes[i].set_title(title)\n",
    "        axes[i].axis('off')\n",
    "    plt.show()"
   ]
  },
  {
   "cell_type": "code",
   "execution_count": 5,
   "metadata": {},
   "outputs": [
    {
     "data": {
      "text/plain": [
       "True"
      ]
     },
     "execution_count": 5,
     "metadata": {},
     "output_type": "execute_result"
    }
   ],
   "source": [
    "srout = 127.5 * img_sr + 127.5\n",
    "srout[srout[:] > 255] = 255\n",
    "srout[srout[:] < 0] = 0\n",
    "srout = cv2.cvtColor(srout, cv2.COLOR_BGR2RGB)\n",
    "cv2.imwrite('sr.png', srout, [int(cv2.IMWRITE_PNG_COMPRESSION), 0])\n",
    "\n",
    "hrout = cv2.imread(inputimg, cv2.IMREAD_COLOR)\n",
    "lr_shape = (int(hrout.shape[1]*4), int(hrout.shape[0]*4))\n",
    "lrout = cv2.resize(hrout, lr_shape, cv2.INTER_CUBIC)\n",
    "cv2.imwrite('lr.png', lrout, [int(cv2.IMWRITE_PNG_COMPRESSION), 0])"
   ]
  },
  {
   "cell_type": "code",
   "execution_count": 6,
   "metadata": {},
   "outputs": [
    {
     "name": "stdout",
     "output_type": "stream",
     "text": [
      "./tfjs save complete\n"
     ]
    }
   ],
   "source": [
    "import tensorflowjs as tfjs\n",
    "\n",
    "tfjsExport = True\n",
    "FILEPATH_TFJS = \"./tfjs\"\n",
    "\n",
    "if tfjsExport:\n",
    "    tfjs.converters.save_keras_model(gan.generator, FILEPATH_TFJS)\n",
    "    print(FILEPATH_TFJS + \" save complete\")"
   ]
  }
 ],
 "metadata": {
  "kernelspec": {
   "display_name": "Python 3",
   "language": "python",
   "name": "python3"
  },
  "language_info": {
   "codemirror_mode": {
    "name": "ipython",
    "version": 3
   },
   "file_extension": ".py",
   "mimetype": "text/x-python",
   "name": "python",
   "nbconvert_exporter": "python",
   "pygments_lexer": "ipython3",
   "version": "3.6.5"
  }
 },
 "nbformat": 4,
 "nbformat_minor": 2
}
