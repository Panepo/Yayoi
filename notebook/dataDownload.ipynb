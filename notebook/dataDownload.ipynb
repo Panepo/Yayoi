{
 "cells": [
  {
   "cell_type": "code",
   "execution_count": 5,
   "metadata": {},
   "outputs": [],
   "source": [
    "from utility.dataDownload import download_file_from_google_drive"
   ]
  },
  {
   "cell_type": "code",
   "execution_count": 6,
   "metadata": {},
   "outputs": [],
   "source": [
    "fileDest = './'\n",
    "\n",
    "file = [\n",
    "    { 'fileName': \"yayoi_dataTrain_2_32_6.h5\", 'fileId': \"15jij8t0qFCY7UlaJS2uWnX6Ysz6Up-EF\" },\n",
    "    { 'fileName': \"yayoi_dataTrain_4_32_6.h5\", 'fileId': \"11fFEWVgtx9YDfX1qydamaUyBSVjq7dXy\" },\n",
    "    { 'fileName': \"yayoi_dataTrain_4_32_7.h5\", 'fileId': \"1IMwlKSG1Wo5Dik3LJOXpzqDzrbDJGG22\" },\n",
    "    { 'fileName': \"yayoi_dataTrain_4_32_8.h5\", 'fileId': \"1Ph8VDWdAOtBzEkbVfn1VBkn3eAOwz-t9\" },\n",
    "    { 'fileName': \"yayoi_dataValidate_2_32_6.h5\", 'fileId': \"1rDFzMB_uivMc9_brnsgHTv8zDwQpiGjk\" },\n",
    "    { 'fileName': \"yayoi_dataValidate_4_32_6.h5\", 'fileId': \"1_iMThcPuJqGPhchY2-WjMRpKaJH2UBVY\" },\n",
    "    { 'fileName': \"yayoi_dataValidate_4_32_7.h5\", 'fileId': \"1Ru0GjahwIQZ-cuCyROXSsMDFSzkiRhOu\" },\n",
    "    { 'fileName': \"yayoi_dataValidate_4_32_8.h5\", 'fileId': \"1VZo3jE5KADekf48YIWIouRFLu0UPg9Fl\" }\n",
    "]"
   ]
  },
  {
   "cell_type": "code",
   "execution_count": 8,
   "metadata": {},
   "outputs": [
    {
     "name": "stdout",
     "output_type": "stream",
     "text": [
      "yayoi_dataTrain_2_32_6.h5 download complete\n",
      "yayoi_dataTrain_4_32_6.h5 download complete\n",
      "yayoi_dataTrain_4_32_7.h5 download complete\n",
      "yayoi_dataTrain_4_32_8.h5 download complete\n",
      "yayoi_dataValidate_2_32_6.h5 download complete\n",
      "yayoi_dataValidate_4_32_6.h5 download complete\n",
      "yayoi_dataValidate_4_32_7.h5 download complete\n",
      "yayoi_dataValidate_4_32_8.h5 download complete\n"
     ]
    }
   ],
   "source": [
    "for i in range(len(file)):\n",
    "    dest = fileDest + file[i]['fileName']\n",
    "    download_file_from_google_drive(file[i]['fileId'], dest)\n",
    "    print(file[i]['fileName'] + ' download complete')"
   ]
  },
  {
   "cell_type": "code",
   "execution_count": null,
   "metadata": {},
   "outputs": [],
   "source": []
  }
 ],
 "metadata": {
  "kernelspec": {
   "display_name": "Python 3",
   "language": "python",
   "name": "python3"
  },
  "language_info": {
   "codemirror_mode": {
    "name": "ipython",
    "version": 3
   },
   "file_extension": ".py",
   "mimetype": "text/x-python",
   "name": "python",
   "nbconvert_exporter": "python",
   "pygments_lexer": "ipython3",
   "version": "3.6.5"
  }
 },
 "nbformat": 4,
 "nbformat_minor": 2
}
