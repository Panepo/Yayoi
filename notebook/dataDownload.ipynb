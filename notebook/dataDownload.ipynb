{
 "cells": [
  {
   "cell_type": "code",
   "execution_count": 14,
   "metadata": {},
   "outputs": [],
   "source": [
    "from utility.dataDownload import download_file_from_google_drive"
   ]
  },
  {
   "cell_type": "code",
   "execution_count": 15,
   "metadata": {},
   "outputs": [],
   "source": [
    "fileDest = './'\n",
    "fileName = ['imageValidate.7z', 'imageTrain.7z']\n",
    "fileId = ['1PwMdkWb1aYahCdG3I8kERwgStFY0OsWA',\n",
    "          '1lXTaHi2ycw3glO2pHR36_fqfrt8kwEJW'\n",
    "         ]"
   ]
  },
  {
   "cell_type": "code",
   "execution_count": 16,
   "metadata": {},
   "outputs": [
    {
     "name": "stdout",
     "output_type": "stream",
     "text": [
      "imageValidate.7z download complete\n",
      "imageTrain.7z download complete\n"
     ]
    }
   ],
   "source": [
    "for i in range(len(fileId)):\n",
    "    dest = fileDest + fileName[i]\n",
    "    download_file_from_google_drive(fileId[i], dest)\n",
    "    print(fileName[i] + ' download complete')"
   ]
  },
  {
   "cell_type": "code",
   "execution_count": 18,
   "metadata": {},
   "outputs": [],
   "source": [
    "import tarfile\n",
    "import gzip"
   ]
  },
  {
   "cell_type": "code",
   "execution_count": null,
   "metadata": {},
   "outputs": [],
   "source": []
  }
 ],
 "metadata": {
  "kernelspec": {
   "display_name": "Python 3",
   "language": "python",
   "name": "python3"
  },
  "language_info": {
   "codemirror_mode": {
    "name": "ipython",
    "version": 3
   },
   "file_extension": ".py",
   "mimetype": "text/x-python",
   "name": "python",
   "nbconvert_exporter": "python",
   "pygments_lexer": "ipython3",
   "version": "3.6.5"
  }
 },
 "nbformat": 4,
 "nbformat_minor": 2
}
