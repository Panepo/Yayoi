{
 "cells": [
  {
   "cell_type": "code",
   "execution_count": 6,
   "metadata": {},
   "outputs": [],
   "source": [
    "from network.srcnn import srcnn\n",
    "\n",
    "from keras.callbacks import ModelCheckpoint\n",
    "\n",
    "import numpy\n",
    "import math\n",
    "import cv2\n",
    "import time\n",
    "\n",
    "from utility.h5data import h5DataRead"
   ]
  },
  {
   "cell_type": "code",
   "execution_count": 7,
   "metadata": {},
   "outputs": [],
   "source": [
    "EPOCHS = 1\n",
    "BATCH_SIZE = 128\n",
    "\n",
    "SCALE = 4\n",
    "FILENAME_TRAIN = \"dataTrain_\" + str(SCALE) + \".h5\"\n",
    "FILENAME_VALIDATE = \"dataValidate_\" + str(SCALE) + \".h5\"\n",
    "FILENAME_CHECKPOINT = \"dataCheckPoint_\" + str(SCALE) + \".h5\"\n",
    "\n",
    "dnn = srcnn()\n",
    "dnn.layers = 3\n",
    "dnn.filter = [128, 64, 1]\n",
    "dnn.conv = [9, 5, 5]\n",
    "dnn.inputShape = (32, 32, 1)\n",
    "dnn.lr = 0.0003\n",
    "dnn.in_train = True"
   ]
  },
  {
   "cell_type": "code",
   "execution_count": 8,
   "metadata": {},
   "outputs": [],
   "source": [
    "tick1 = cv2.getTickCount()"
   ]
  },
  {
   "cell_type": "code",
   "execution_count": 9,
   "metadata": {
    "scrolled": false
   },
   "outputs": [
    {
     "name": "stderr",
     "output_type": "stream",
     "text": [
      "/home/jovyan/work/network/srcnn.py:19: UserWarning: Update your `Conv2D` call to the Keras 2 API: `Conv2D(activation=\"relu\", input_shape=(32, 32, 1..., kernel_size=(9, 9), filters=128, padding=\"valid\", kernel_initializer=\"glorot_uniform\", use_bias=True)`\n",
      "  activation='relu', border_mode='valid', bias=True, input_shape=self.inputShape))\n",
      "/home/jovyan/work/network/srcnn.py:26: UserWarning: Update your `Conv2D` call to the Keras 2 API: `Conv2D(activation=\"relu\", kernel_size=(5, 5), filters=64, padding=\"same\", kernel_initializer=\"glorot_uniform\", use_bias=True)`\n",
      "  activation='relu', border_mode='same', bias=True))\n",
      "/home/jovyan/work/network/srcnn.py:30: UserWarning: Update your `Conv2D` call to the Keras 2 API: `Conv2D(activation=\"linear\", kernel_size=(5, 5), filters=1, padding=\"valid\", kernel_initializer=\"glorot_uniform\", use_bias=True)`\n",
      "  activation='linear', border_mode='valid', bias=True))\n"
     ]
    },
    {
     "name": "stdout",
     "output_type": "stream",
     "text": [
      "_________________________________________________________________\n",
      "Layer (type)                 Output Shape              Param #   \n",
      "=================================================================\n",
      "conv2d_4 (Conv2D)            (None, 24, 24, 128)       10496     \n",
      "_________________________________________________________________\n",
      "conv2d_5 (Conv2D)            (None, 24, 24, 64)        204864    \n",
      "_________________________________________________________________\n",
      "batch_normalization_2 (Batch (None, 24, 24, 64)        256       \n",
      "_________________________________________________________________\n",
      "conv2d_6 (Conv2D)            (None, 20, 20, 1)         1601      \n",
      "=================================================================\n",
      "Total params: 217,217\n",
      "Trainable params: 217,089\n",
      "Non-trainable params: 128\n",
      "_________________________________________________________________\n",
      "None\n",
      "Train on 3200 samples, validate on 750 samples\n",
      "Epoch 1/1\n",
      "3200/3200 [==============================] - 286s 89ms/step - loss: 0.0498 - mean_squared_error: 0.0498 - val_loss: 0.0054 - val_mean_squared_error: 0.0054\n",
      "\n",
      "Epoch 00001: val_loss improved from inf to 0.00540, saving model to dataCheckPoint_4.h5\n"
     ]
    },
    {
     "data": {
      "text/plain": [
       "<keras.callbacks.History at 0x7fda9a8aee80>"
      ]
     },
     "execution_count": 9,
     "metadata": {},
     "output_type": "execute_result"
    }
   ],
   "source": [
    "model = dnn.network()\n",
    "print(model.summary())\n",
    "data, label = h5DataRead(FILENAME_TRAIN)\n",
    "val_data, val_label = h5DataRead(FILENAME_VALIDATE)\n",
    "\n",
    "checkpoint = ModelCheckpoint(FILENAME_CHECKPOINT, monitor='val_loss', verbose=1, save_best_only=True,\n",
    "                             save_weights_only=False, mode='min')\n",
    "\n",
    "callbacks_list = [checkpoint]\n",
    "\n",
    "model.fit(data, label, batch_size=BATCH_SIZE, validation_data=(val_data, val_label),\n",
    "                callbacks=callbacks_list, shuffle=True, epochs=EPOCHS, verbose=1)"
   ]
  },
  {
   "cell_type": "code",
   "execution_count": 10,
   "metadata": {},
   "outputs": [
    {
     "name": "stdout",
     "output_type": "stream",
     "text": [
      "Test loss: 0.00540391825077\n",
      "Test accuracy: 0.00540395697889\n"
     ]
    }
   ],
   "source": [
    "score = model.evaluate(val_data, val_label, verbose=0)\n",
    "print('Test loss:', score[0])\n",
    "print('Test accuracy:', score[1])"
   ]
  },
  {
   "cell_type": "code",
   "execution_count": 11,
   "metadata": {},
   "outputs": [
    {
     "name": "stdout",
     "output_type": "stream",
     "text": [
      "yayoi_4_2018-07-12_094555.h5 saved\n"
     ]
    }
   ],
   "source": [
    "fileName = 'yayoi_' + str(SCALE) + \"_\" + time.strftime(\"%Y-%m-%d_%H%M%S\", time.localtime()) + '.h5'\n",
    "model.save_weights(fileName)\n",
    "print(fileName + ' saved')"
   ]
  },
  {
   "cell_type": "code",
   "execution_count": 12,
   "metadata": {},
   "outputs": [
    {
     "name": "stdout",
     "output_type": "stream",
     "text": [
      "processed time: 309357 ms\n"
     ]
    }
   ],
   "source": [
    "tick2 = cv2.getTickCount()\n",
    "tick = math.floor( ((tick2 - tick1) * 1000) / cv2.getTickFrequency())\n",
    "print(\"processed time: \" + str(tick) + \" ms\")"
   ]
  }
 ],
 "metadata": {
  "kernelspec": {
   "display_name": "Python 3",
   "language": "python",
   "name": "python3"
  },
  "language_info": {
   "codemirror_mode": {
    "name": "ipython",
    "version": 3
   },
   "file_extension": ".py",
   "mimetype": "text/x-python",
   "name": "python",
   "nbconvert_exporter": "python",
   "pygments_lexer": "ipython3",
   "version": "3.6.5"
  }
 },
 "nbformat": 4,
 "nbformat_minor": 2
}
