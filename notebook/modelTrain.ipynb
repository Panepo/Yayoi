{
 "cells": [
  {
   "cell_type": "code",
   "execution_count": 1,
   "metadata": {},
   "outputs": [
    {
     "name": "stderr",
     "output_type": "stream",
     "text": [
      "Using TensorFlow backend.\n"
     ]
    }
   ],
   "source": [
    "from network.srcnn import srcnn\n",
    "\n",
    "from keras.callbacks import ModelCheckpoint\n",
    "\n",
    "import numpy\n",
    "import math\n",
    "import cv2\n",
    "import time\n",
    "\n",
    "from utility.h5data import h5DataRead"
   ]
  },
  {
   "cell_type": "code",
   "execution_count": 2,
   "metadata": {},
   "outputs": [],
   "source": [
    "EPOCHS = 10\n",
    "BATCH_SIZE = 128\n",
    "\n",
    "SCALE = 4\n",
    "FILENAME_TRAIN = \"dataTrain_\" + str(SCALE) + \".h5\"\n",
    "FILENAME_VALIDATE = \"dataValidate_\" + str(SCALE) + \".h5\"\n",
    "FILENAME_CHECKPOINT = \"dataCheckPoint_\" + str(SCALE) + \".h5\"\n",
    "\n",
    "dnn = srcnn()\n",
    "dnn.layers = 3\n",
    "dnn.filter = [128, 64, 1]\n",
    "dnn.conv = [9, 5, 5]\n",
    "dnn.inputShape = (32, 32, 1)\n",
    "dnn.lr = 0.0003\n",
    "dnn.in_train = True"
   ]
  },
  {
   "cell_type": "code",
   "execution_count": 3,
   "metadata": {},
   "outputs": [],
   "source": [
    "tick1 = cv2.getTickCount()"
   ]
  },
  {
   "cell_type": "code",
   "execution_count": 4,
   "metadata": {
    "scrolled": false
   },
   "outputs": [
    {
     "name": "stderr",
     "output_type": "stream",
     "text": [
      "/home/jovyan/work/network/srcnn.py:19: UserWarning: Update your `Conv2D` call to the Keras 2 API: `Conv2D(activation=\"relu\", padding=\"valid\", input_shape=(32, 32, 1..., kernel_size=(9, 9), filters=128, kernel_initializer=\"glorot_uniform\", use_bias=True)`\n",
      "  activation='relu', padding='valid', bias=True, input_shape=self.inputShape))\n",
      "/home/jovyan/work/network/srcnn.py:26: UserWarning: Update your `Conv2D` call to the Keras 2 API: `Conv2D(activation=\"relu\", padding=\"same\", kernel_size=(5, 5), filters=64, kernel_initializer=\"glorot_uniform\", use_bias=True)`\n",
      "  activation='relu', padding='same', bias=True))\n",
      "/home/jovyan/work/network/srcnn.py:30: UserWarning: Update your `Conv2D` call to the Keras 2 API: `Conv2D(activation=\"linear\", padding=\"valid\", kernel_size=(5, 5), filters=1, kernel_initializer=\"glorot_uniform\", use_bias=True)`\n",
      "  activation='linear', padding='valid', bias=True))\n"
     ]
    },
    {
     "name": "stdout",
     "output_type": "stream",
     "text": [
      "_________________________________________________________________\n",
      "Layer (type)                 Output Shape              Param #   \n",
      "=================================================================\n",
      "conv2d_1 (Conv2D)            (None, 24, 24, 128)       10496     \n",
      "_________________________________________________________________\n",
      "conv2d_2 (Conv2D)            (None, 24, 24, 64)        204864    \n",
      "_________________________________________________________________\n",
      "batch_normalization_1 (Batch (None, 24, 24, 64)        256       \n",
      "_________________________________________________________________\n",
      "conv2d_3 (Conv2D)            (None, 20, 20, 1)         1601      \n",
      "=================================================================\n",
      "Total params: 217,217\n",
      "Trainable params: 217,089\n",
      "Non-trainable params: 128\n",
      "_________________________________________________________________\n",
      "None\n",
      "Train on 3200 samples, validate on 750 samples\n",
      "Epoch 1/10\n",
      "3200/3200 [==============================] - 229s 71ms/step - loss: 0.0686 - mean_squared_error: 0.0686 - val_loss: 0.0036 - val_mean_squared_error: 0.0036\n",
      "\n",
      "Epoch 00001: val_loss improved from inf to 0.00357, saving model to dataCheckPoint_4.h5\n",
      "Epoch 2/10\n",
      "3200/3200 [==============================] - 240s 75ms/step - loss: 0.0024 - mean_squared_error: 0.0024 - val_loss: 0.0023 - val_mean_squared_error: 0.0023\n",
      "\n",
      "Epoch 00002: val_loss improved from 0.00357 to 0.00225, saving model to dataCheckPoint_4.h5\n",
      "Epoch 3/10\n",
      "3200/3200 [==============================] - 247s 77ms/step - loss: 0.0019 - mean_squared_error: 0.0019 - val_loss: 0.0040 - val_mean_squared_error: 0.0040\n",
      "\n",
      "Epoch 00003: val_loss did not improve from 0.00225\n",
      "Epoch 4/10\n",
      "3200/3200 [==============================] - 242s 76ms/step - loss: 0.0015 - mean_squared_error: 0.0015 - val_loss: 0.0055 - val_mean_squared_error: 0.0055\n",
      "\n",
      "Epoch 00004: val_loss did not improve from 0.00225\n",
      "Epoch 5/10\n",
      "3200/3200 [==============================] - 249s 78ms/step - loss: 0.0012 - mean_squared_error: 0.0012 - val_loss: 0.0052 - val_mean_squared_error: 0.0052\n",
      "\n",
      "Epoch 00005: val_loss did not improve from 0.00225\n",
      "Epoch 6/10\n",
      "3200/3200 [==============================] - 288s 90ms/step - loss: 9.9245e-04 - mean_squared_error: 9.9245e-04 - val_loss: 0.0061 - val_mean_squared_error: 0.0061\n",
      "\n",
      "Epoch 00006: val_loss did not improve from 0.00225\n",
      "Epoch 7/10\n",
      "3200/3200 [==============================] - 298s 93ms/step - loss: 0.0010 - mean_squared_error: 0.0010 - val_loss: 0.0056 - val_mean_squared_error: 0.0056\n",
      "\n",
      "Epoch 00007: val_loss did not improve from 0.00225\n",
      "Epoch 8/10\n",
      "3200/3200 [==============================] - 321s 100ms/step - loss: 0.0010 - mean_squared_error: 0.0010 - val_loss: 0.0061 - val_mean_squared_error: 0.0061\n",
      "\n",
      "Epoch 00008: val_loss did not improve from 0.00225\n",
      "Epoch 9/10\n",
      "3200/3200 [==============================] - 341s 106ms/step - loss: 9.6663e-04 - mean_squared_error: 9.6663e-04 - val_loss: 0.0065 - val_mean_squared_error: 0.0065\n",
      "\n",
      "Epoch 00009: val_loss did not improve from 0.00225\n",
      "Epoch 10/10\n",
      "3200/3200 [==============================] - 297s 93ms/step - loss: 9.5256e-04 - mean_squared_error: 9.5256e-04 - val_loss: 0.0057 - val_mean_squared_error: 0.0057\n",
      "\n",
      "Epoch 00010: val_loss did not improve from 0.00225\n"
     ]
    },
    {
     "data": {
      "text/plain": [
       "<keras.callbacks.History at 0x7f92140b8c88>"
      ]
     },
     "execution_count": 4,
     "metadata": {},
     "output_type": "execute_result"
    }
   ],
   "source": [
    "model = dnn.network()\n",
    "print(model.summary())\n",
    "data, label = h5DataRead(FILENAME_TRAIN)\n",
    "val_data, val_label = h5DataRead(FILENAME_VALIDATE)\n",
    "\n",
    "checkpoint = ModelCheckpoint(FILENAME_CHECKPOINT, monitor='val_loss', verbose=1, save_best_only=True,\n",
    "                             save_weights_only=False, mode='min')\n",
    "\n",
    "callbacks_list = [checkpoint]\n",
    "\n",
    "model.fit(data, label, batch_size=BATCH_SIZE, validation_data=(val_data, val_label),\n",
    "                callbacks=callbacks_list, shuffle=True, epochs=EPOCHS, verbose=1)"
   ]
  },
  {
   "cell_type": "code",
   "execution_count": 5,
   "metadata": {},
   "outputs": [
    {
     "name": "stdout",
     "output_type": "stream",
     "text": [
      "Test loss: 0.00568182758118\n",
      "Test accuracy: 0.00568182911351\n"
     ]
    }
   ],
   "source": [
    "score = model.evaluate(val_data, val_label, verbose=0)\n",
    "print('Test loss:', score[0])\n",
    "print('Test accuracy:', score[1])"
   ]
  },
  {
   "cell_type": "code",
   "execution_count": 6,
   "metadata": {},
   "outputs": [
    {
     "name": "stdout",
     "output_type": "stream",
     "text": [
      "yayoi_4_2018-07-13_025511.h5 saved\n"
     ]
    }
   ],
   "source": [
    "fileName = 'yayoi_' + str(SCALE) + \"_\" + time.strftime(\"%Y-%m-%d_%H%M%S\", time.localtime()) + '.h5'\n",
    "model.save_weights(fileName)\n",
    "print(fileName + ' saved')"
   ]
  },
  {
   "cell_type": "code",
   "execution_count": 7,
   "metadata": {},
   "outputs": [
    {
     "name": "stdout",
     "output_type": "stream",
     "text": [
      "processed time: 46 mins 13 secs 824 ms\n"
     ]
    }
   ],
   "source": [
    "tick2 = cv2.getTickCount()\n",
    "tick = math.floor( ((tick2 - tick1) * 1000) / cv2.getTickFrequency())\n",
    "\n",
    "if tick >= 60000:\n",
    "    mins = math.floor(tick / 60000)\n",
    "    secs = math.floor((tick - mins * 60000) / 1000)\n",
    "    msec = tick - mins * 60000 - secs * 1000\n",
    "    print(\"processed time: \" + str(mins) + \" mins \" + str(secs) + \" secs \" + str(msec) + \" ms\")\n",
    "elif tick >= 1000:\n",
    "    secs = math.floor(tick / 1000)\n",
    "    msec = tick - secs * 1000\n",
    "    print(\"processed time: \" + str(secs) + \" secs \" + str(msec) + \" ms\")\n",
    "else:\n",
    "    print(\"processed time: \" + str(tick) + \" ms\")"
   ]
  }
 ],
 "metadata": {
  "kernelspec": {
   "display_name": "Python 3",
   "language": "python",
   "name": "python3"
  },
  "language_info": {
   "codemirror_mode": {
    "name": "ipython",
    "version": 3
   },
   "file_extension": ".py",
   "mimetype": "text/x-python",
   "name": "python",
   "nbconvert_exporter": "python",
   "pygments_lexer": "ipython3",
   "version": "3.6.5"
  }
 },
 "nbformat": 4,
 "nbformat_minor": 2
}
