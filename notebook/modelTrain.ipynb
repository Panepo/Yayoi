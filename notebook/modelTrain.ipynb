{
 "cells": [
  {
   "cell_type": "code",
   "execution_count": 1,
   "metadata": {},
   "outputs": [
    {
     "name": "stderr",
     "output_type": "stream",
     "text": [
      "Using TensorFlow backend.\n"
     ]
    }
   ],
   "source": [
    "from network.srcnn import networkTrain\n",
    "\n",
    "import numpy\n",
    "import math\n",
    "import cv2\n",
    "\n",
    "import os\n",
    "import h5py\n",
    "import time"
   ]
  },
  {
   "cell_type": "code",
   "execution_count": 2,
   "metadata": {},
   "outputs": [],
   "source": [
    "EPOCHS = 1\n",
    "BATCH_SIZE = 128\n",
    "\n",
    "scale = 2\n",
    "FILENAME_TRAIN = \"dataTrain_\" + scale + \".h5\"\n",
    "FILENAME_VALIDATE = \"dataValidate_\" + scale + \".h5\"\n",
    "FILENAME_CHECKPOINT = \"dataCheckPoint_\" + scale + \".h5\""
   ]
  },
  {
   "cell_type": "code",
   "execution_count": 3,
   "metadata": {},
   "outputs": [],
   "source": [
    "def h5DataRead(file):\n",
    "    with h5py.File(file, 'r') as hf:\n",
    "        data = numpy.array(hf.get('data'))\n",
    "        label = numpy.array(hf.get('label'))\n",
    "        train_data = numpy.transpose(data, (0, 2, 3, 1))\n",
    "        train_label = numpy.transpose(label, (0, 2, 3, 1))\n",
    "        return train_data, train_label"
   ]
  },
  {
   "cell_type": "code",
   "execution_count": 4,
   "metadata": {},
   "outputs": [],
   "source": [
    "tick1 = cv2.getTickCount()"
   ]
  },
  {
   "cell_type": "code",
   "execution_count": 6,
   "metadata": {
    "scrolled": false
   },
   "outputs": [
    {
     "name": "stderr",
     "output_type": "stream",
     "text": [
      "/home/jovyan/work/network/srcnn.py:8: UserWarning: Update your `Conv2D` call to the Keras 2 API: `Conv2D(activation=\"relu\", input_shape=(32, 32, 1..., kernel_size=(9, 9), filters=128, padding=\"valid\", kernel_initializer=\"glorot_uniform\", use_bias=True)`\n",
      "  activation='relu', border_mode='valid', bias=True, input_shape=(32, 32, 1)))\n",
      "/home/jovyan/work/network/srcnn.py:10: UserWarning: Update your `Conv2D` call to the Keras 2 API: `Conv2D(activation=\"relu\", kernel_size=(3, 3), filters=64, padding=\"same\", kernel_initializer=\"glorot_uniform\", use_bias=True)`\n",
      "  activation='relu', border_mode='same', bias=True))\n",
      "/home/jovyan/work/network/srcnn.py:12: UserWarning: Update your `Conv2D` call to the Keras 2 API: `Conv2D(activation=\"linear\", kernel_size=(5, 5), filters=1, padding=\"valid\", kernel_initializer=\"glorot_uniform\", use_bias=True)`\n",
      "  activation='linear', border_mode='valid', bias=True))\n"
     ]
    },
    {
     "name": "stdout",
     "output_type": "stream",
     "text": [
      "_________________________________________________________________\n",
      "Layer (type)                 Output Shape              Param #   \n",
      "=================================================================\n",
      "conv2d_4 (Conv2D)            (None, 24, 24, 128)       10496     \n",
      "_________________________________________________________________\n",
      "conv2d_5 (Conv2D)            (None, 24, 24, 64)        73792     \n",
      "_________________________________________________________________\n",
      "conv2d_6 (Conv2D)            (None, 20, 20, 1)         1601      \n",
      "=================================================================\n",
      "Total params: 85,889\n",
      "Trainable params: 85,889\n",
      "Non-trainable params: 0\n",
      "_________________________________________________________________\n",
      "None\n",
      "Train on 22000 samples, validate on 2130 samples\n",
      "Epoch 1/1\n",
      "22000/22000 [==============================] - 765s 35ms/step - loss: 0.0020 - mean_squared_error: 0.0020 - val_loss: 3.9291e-05 - val_mean_squared_error: 3.9296e-05\n"
     ]
    },
    {
     "data": {
      "text/plain": [
       "<keras.callbacks.History at 0x7fce77145f28>"
      ]
     },
     "execution_count": 6,
     "metadata": {},
     "output_type": "execute_result"
    }
   ],
   "source": [
    "srcnn_model = networkTrain()\n",
    "print(srcnn_model.summary())\n",
    "data, label = h5DataRead(FILENAME_TRAIN)\n",
    "val_data, val_label = h5DataRead(FILENAME_VALIDATE)\n",
    "\n",
    "checkpoint = ModelCheckpoint(FILENAME_CHECKPOINT, monitor='val_loss', verbose=1, save_best_only=True,\n",
    "                             save_weights_only=False, mode='min')\n",
    "\n",
    "callbacks_list = [checkpoint]\n",
    "\n",
    "srcnn_model.fit(data, label, batch_size=BATCH_SIZE, validation_data=(val_data, val_label),\n",
    "                callbacks=callbacks_list, shuffle=True, epochs=EPOCHS, verbose=1)"
   ]
  },
  {
   "cell_type": "code",
   "execution_count": 7,
   "metadata": {},
   "outputs": [
    {
     "name": "stdout",
     "output_type": "stream",
     "text": [
      "Test loss: 3.92908278145e-05\n",
      "Test accuracy: 3.92906744147e-05\n"
     ]
    }
   ],
   "source": [
    "score = srcnn_model.evaluate(val_data, val_label, verbose=0)\n",
    "print('Test loss:', score[0])\n",
    "print('Test accuracy:', score[1])"
   ]
  },
  {
   "cell_type": "code",
   "execution_count": 8,
   "metadata": {},
   "outputs": [
    {
     "name": "stdout",
     "output_type": "stream",
     "text": [
      "yayoi_2018-07-09_025600.h5 saved\n"
     ]
    }
   ],
   "source": [
    "fileName = 'yayoi_' + time.strftime(\"%Y-%m-%d_%H%M%S\", time.localtime()) + '.h5'\n",
    "srcnn_model.save_weights(fileName)\n",
    "print(fileName + ' saved')"
   ]
  },
  {
   "cell_type": "code",
   "execution_count": 9,
   "metadata": {},
   "outputs": [
    {
     "name": "stdout",
     "output_type": "stream",
     "text": [
      "processed time: 885360 ms\n"
     ]
    }
   ],
   "source": [
    "tick2 = cv2.getTickCount()\n",
    "tick = math.floor( ((tick2 - tick1) * 1000) / cv2.getTickFrequency())\n",
    "print(\"processed time: \" + str(tick) + \" ms\")"
   ]
  }
 ],
 "metadata": {
  "kernelspec": {
   "display_name": "Python 3",
   "language": "python",
   "name": "python3"
  },
  "language_info": {
   "codemirror_mode": {
    "name": "ipython",
    "version": 3
   },
   "file_extension": ".py",
   "mimetype": "text/x-python",
   "name": "python",
   "nbconvert_exporter": "python",
   "pygments_lexer": "ipython3",
   "version": "3.6.5"
  }
 },
 "nbformat": 4,
 "nbformat_minor": 2
}
