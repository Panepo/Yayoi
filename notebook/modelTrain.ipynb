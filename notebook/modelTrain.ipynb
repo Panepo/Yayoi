{
 "cells": [
  {
   "cell_type": "code",
   "execution_count": 7,
   "metadata": {},
   "outputs": [],
   "source": [
    "from network.srcnn import networkTrain\n",
    "\n",
    "from keras.callbacks import ModelCheckpoint\n",
    "\n",
    "import numpy\n",
    "import math\n",
    "import cv2\n",
    "\n",
    "import os\n",
    "import h5py\n",
    "import time"
   ]
  },
  {
   "cell_type": "code",
   "execution_count": 8,
   "metadata": {},
   "outputs": [],
   "source": [
    "EPOCHS = 20\n",
    "BATCH_SIZE = 128\n",
    "\n",
    "SCALE = 4\n",
    "FILENAME_TRAIN = \"dataTrain_\" + str(SCALE) + \".h5\"\n",
    "FILENAME_VALIDATE = \"dataValidate_\" + str(SCALE) + \".h5\"\n",
    "FILENAME_CHECKPOINT = \"dataCheckPoint_\" + str(SCALE) + \".h5\""
   ]
  },
  {
   "cell_type": "code",
   "execution_count": 9,
   "metadata": {},
   "outputs": [],
   "source": [
    "def h5DataRead(file):\n",
    "    with h5py.File(file, 'r') as hf:\n",
    "        data = numpy.array(hf.get('data'))\n",
    "        label = numpy.array(hf.get('label'))\n",
    "        train_data = numpy.transpose(data, (0, 2, 3, 1))\n",
    "        train_label = numpy.transpose(label, (0, 2, 3, 1))\n",
    "        return train_data, train_label"
   ]
  },
  {
   "cell_type": "code",
   "execution_count": 10,
   "metadata": {},
   "outputs": [],
   "source": [
    "tick1 = cv2.getTickCount()"
   ]
  },
  {
   "cell_type": "code",
   "execution_count": 11,
   "metadata": {
    "scrolled": false
   },
   "outputs": [
    {
     "name": "stderr",
     "output_type": "stream",
     "text": [
      "/home/jovyan/work/network/srcnn.py:8: UserWarning: Update your `Conv2D` call to the Keras 2 API: `Conv2D(activation=\"relu\", input_shape=(32, 32, 1..., kernel_size=(9, 9), filters=128, padding=\"valid\", kernel_initializer=\"glorot_uniform\", use_bias=True)`\n",
      "  activation='relu', border_mode='valid', bias=True, input_shape=(32, 32, 1)))\n",
      "/home/jovyan/work/network/srcnn.py:10: UserWarning: Update your `Conv2D` call to the Keras 2 API: `Conv2D(activation=\"relu\", kernel_size=(3, 3), filters=64, padding=\"same\", kernel_initializer=\"glorot_uniform\", use_bias=True)`\n",
      "  activation='relu', border_mode='same', bias=True))\n",
      "/home/jovyan/work/network/srcnn.py:12: UserWarning: Update your `Conv2D` call to the Keras 2 API: `Conv2D(activation=\"linear\", kernel_size=(5, 5), filters=1, padding=\"valid\", kernel_initializer=\"glorot_uniform\", use_bias=True)`\n",
      "  activation='linear', border_mode='valid', bias=True))\n"
     ]
    },
    {
     "name": "stdout",
     "output_type": "stream",
     "text": [
      "_________________________________________________________________\n",
      "Layer (type)                 Output Shape              Param #   \n",
      "=================================================================\n",
      "conv2d_7 (Conv2D)            (None, 24, 24, 128)       10496     \n",
      "_________________________________________________________________\n",
      "conv2d_8 (Conv2D)            (None, 24, 24, 64)        73792     \n",
      "_________________________________________________________________\n",
      "conv2d_9 (Conv2D)            (None, 20, 20, 1)         1601      \n",
      "=================================================================\n",
      "Total params: 85,889\n",
      "Trainable params: 85,889\n",
      "Non-trainable params: 0\n",
      "_________________________________________________________________\n",
      "None\n",
      "Train on 3200 samples, validate on 750 samples\n",
      "Epoch 1/20\n",
      "3200/3200 [==============================] - 112s 35ms/step - loss: 0.0124 - mean_squared_error: 0.0124 - val_loss: 2.3876e-04 - val_mean_squared_error: 2.3876e-04\n",
      "\n",
      "Epoch 00001: val_loss improved from inf to 0.00024, saving model to dataCheckPoint_4.h5\n",
      "Epoch 2/20\n",
      "3200/3200 [==============================] - 110s 34ms/step - loss: 0.0023 - mean_squared_error: 0.0023 - val_loss: 8.3658e-05 - val_mean_squared_error: 8.3666e-05\n",
      "\n",
      "Epoch 00002: val_loss improved from 0.00024 to 0.00008, saving model to dataCheckPoint_4.h5\n",
      "Epoch 3/20\n",
      "3200/3200 [==============================] - 121s 38ms/step - loss: 0.0016 - mean_squared_error: 0.0016 - val_loss: 4.8981e-05 - val_mean_squared_error: 4.8990e-05\n",
      "\n",
      "Epoch 00003: val_loss improved from 0.00008 to 0.00005, saving model to dataCheckPoint_4.h5\n",
      "Epoch 4/20\n",
      "3200/3200 [==============================] - 114s 35ms/step - loss: 0.0012 - mean_squared_error: 0.0012 - val_loss: 4.0536e-05 - val_mean_squared_error: 4.0541e-05\n",
      "\n",
      "Epoch 00004: val_loss improved from 0.00005 to 0.00004, saving model to dataCheckPoint_4.h5\n",
      "Epoch 5/20\n",
      "3200/3200 [==============================] - 120s 38ms/step - loss: 8.6722e-04 - mean_squared_error: 8.6722e-04 - val_loss: 7.4321e-05 - val_mean_squared_error: 7.4323e-05\n",
      "\n",
      "Epoch 00005: val_loss did not improve from 0.00004\n",
      "Epoch 6/20\n",
      "3200/3200 [==============================] - 122s 38ms/step - loss: 7.6318e-04 - mean_squared_error: 7.6318e-04 - val_loss: 1.1394e-04 - val_mean_squared_error: 1.1395e-04\n",
      "\n",
      "Epoch 00006: val_loss did not improve from 0.00004\n",
      "Epoch 7/20\n",
      "3200/3200 [==============================] - 129s 40ms/step - loss: 7.3027e-04 - mean_squared_error: 7.3027e-04 - val_loss: 1.1990e-04 - val_mean_squared_error: 1.1991e-04\n",
      "\n",
      "Epoch 00007: val_loss did not improve from 0.00004\n",
      "Epoch 8/20\n",
      "3200/3200 [==============================] - 122s 38ms/step - loss: 7.1392e-04 - mean_squared_error: 7.1391e-04 - val_loss: 1.1523e-04 - val_mean_squared_error: 1.1523e-04\n",
      "\n",
      "Epoch 00008: val_loss did not improve from 0.00004\n",
      "Epoch 9/20\n",
      "3200/3200 [==============================] - 123s 39ms/step - loss: 7.0215e-04 - mean_squared_error: 7.0215e-04 - val_loss: 1.1532e-04 - val_mean_squared_error: 1.1532e-04\n",
      "\n",
      "Epoch 00009: val_loss did not improve from 0.00004\n",
      "Epoch 10/20\n",
      "3200/3200 [==============================] - 121s 38ms/step - loss: 6.9291e-04 - mean_squared_error: 6.9290e-04 - val_loss: 1.0824e-04 - val_mean_squared_error: 1.0824e-04\n",
      "\n",
      "Epoch 00010: val_loss did not improve from 0.00004\n",
      "Epoch 11/20\n",
      "3200/3200 [==============================] - 118s 37ms/step - loss: 6.8228e-04 - mean_squared_error: 6.8228e-04 - val_loss: 1.0910e-04 - val_mean_squared_error: 1.0910e-04\n",
      "\n",
      "Epoch 00011: val_loss did not improve from 0.00004\n",
      "Epoch 12/20\n",
      "3200/3200 [==============================] - 117s 37ms/step - loss: 6.7451e-04 - mean_squared_error: 6.7451e-04 - val_loss: 9.6425e-05 - val_mean_squared_error: 9.6425e-05\n",
      "\n",
      "Epoch 00012: val_loss did not improve from 0.00004\n",
      "Epoch 13/20\n",
      "3200/3200 [==============================] - 121s 38ms/step - loss: 6.7091e-04 - mean_squared_error: 6.7091e-04 - val_loss: 9.4601e-05 - val_mean_squared_error: 9.4600e-05\n",
      "\n",
      "Epoch 00013: val_loss did not improve from 0.00004\n",
      "Epoch 14/20\n",
      "3200/3200 [==============================] - 124s 39ms/step - loss: 6.6370e-04 - mean_squared_error: 6.6370e-04 - val_loss: 9.3030e-05 - val_mean_squared_error: 9.3026e-05\n",
      "\n",
      "Epoch 00014: val_loss did not improve from 0.00004\n",
      "Epoch 15/20\n",
      "3200/3200 [==============================] - 115s 36ms/step - loss: 6.5624e-04 - mean_squared_error: 6.5624e-04 - val_loss: 1.0011e-04 - val_mean_squared_error: 1.0012e-04\n",
      "\n",
      "Epoch 00015: val_loss did not improve from 0.00004\n",
      "Epoch 16/20\n",
      "3200/3200 [==============================] - 131s 41ms/step - loss: 6.5398e-04 - mean_squared_error: 6.5398e-04 - val_loss: 9.7100e-05 - val_mean_squared_error: 9.7103e-05\n",
      "\n",
      "Epoch 00016: val_loss did not improve from 0.00004\n",
      "Epoch 17/20\n",
      "3200/3200 [==============================] - 119s 37ms/step - loss: 6.5310e-04 - mean_squared_error: 6.5310e-04 - val_loss: 9.3538e-05 - val_mean_squared_error: 9.3540e-05\n",
      "\n",
      "Epoch 00017: val_loss did not improve from 0.00004\n",
      "Epoch 18/20\n",
      "3200/3200 [==============================] - 119s 37ms/step - loss: 6.4750e-04 - mean_squared_error: 6.4749e-04 - val_loss: 9.6081e-05 - val_mean_squared_error: 9.6077e-05\n",
      "\n",
      "Epoch 00018: val_loss did not improve from 0.00004\n",
      "Epoch 19/20\n",
      "3200/3200 [==============================] - 118s 37ms/step - loss: 6.4625e-04 - mean_squared_error: 6.4625e-04 - val_loss: 1.0040e-04 - val_mean_squared_error: 1.0040e-04\n",
      "\n",
      "Epoch 00019: val_loss did not improve from 0.00004\n",
      "Epoch 20/20\n",
      "3200/3200 [==============================] - 117s 37ms/step - loss: 6.3917e-04 - mean_squared_error: 6.3917e-04 - val_loss: 1.1792e-04 - val_mean_squared_error: 1.1791e-04\n",
      "\n",
      "Epoch 00020: val_loss did not improve from 0.00004\n"
     ]
    },
    {
     "data": {
      "text/plain": [
       "<keras.callbacks.History at 0x7fe2b34bee80>"
      ]
     },
     "execution_count": 11,
     "metadata": {},
     "output_type": "execute_result"
    }
   ],
   "source": [
    "model = networkTrain()\n",
    "print(model.summary())\n",
    "data, label = h5DataRead(FILENAME_TRAIN)\n",
    "val_data, val_label = h5DataRead(FILENAME_VALIDATE)\n",
    "\n",
    "checkpoint = ModelCheckpoint(FILENAME_CHECKPOINT, monitor='val_loss', verbose=1, save_best_only=True,\n",
    "                             save_weights_only=False, mode='min')\n",
    "\n",
    "callbacks_list = [checkpoint]\n",
    "\n",
    "model.fit(data, label, batch_size=BATCH_SIZE, validation_data=(val_data, val_label),\n",
    "                callbacks=callbacks_list, shuffle=True, epochs=EPOCHS, verbose=1)"
   ]
  },
  {
   "cell_type": "code",
   "execution_count": 12,
   "metadata": {},
   "outputs": [
    {
     "name": "stdout",
     "output_type": "stream",
     "text": [
      "Test loss: 0.000117915914821\n",
      "Test accuracy: 0.000117913711079\n"
     ]
    }
   ],
   "source": [
    "score = model.evaluate(val_data, val_label, verbose=0)\n",
    "print('Test loss:', score[0])\n",
    "print('Test accuracy:', score[1])"
   ]
  },
  {
   "cell_type": "code",
   "execution_count": 14,
   "metadata": {},
   "outputs": [
    {
     "name": "stdout",
     "output_type": "stream",
     "text": [
      "yayoi_4_2018-07-09_065024.h5 saved\n"
     ]
    }
   ],
   "source": [
    "fileName = 'yayoi_' + str(SCALE) + \"_\" + time.strftime(\"%Y-%m-%d_%H%M%S\", time.localtime()) + '.h5'\n",
    "model.save_weights(fileName)\n",
    "print(fileName + ' saved')"
   ]
  },
  {
   "cell_type": "code",
   "execution_count": 15,
   "metadata": {},
   "outputs": [
    {
     "name": "stdout",
     "output_type": "stream",
     "text": [
      "processed time: 2471147 ms\n"
     ]
    }
   ],
   "source": [
    "tick2 = cv2.getTickCount()\n",
    "tick = math.floor( ((tick2 - tick1) * 1000) / cv2.getTickFrequency())\n",
    "print(\"processed time: \" + str(tick) + \" ms\")"
   ]
  }
 ],
 "metadata": {
  "kernelspec": {
   "display_name": "Python 3",
   "language": "python",
   "name": "python3"
  },
  "language_info": {
   "codemirror_mode": {
    "name": "ipython",
    "version": 3
   },
   "file_extension": ".py",
   "mimetype": "text/x-python",
   "name": "python",
   "nbconvert_exporter": "python",
   "pygments_lexer": "ipython3",
   "version": "3.6.5"
  }
 },
 "nbformat": 4,
 "nbformat_minor": 2
}
