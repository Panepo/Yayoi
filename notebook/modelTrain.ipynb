{
 "cells": [
  {
   "cell_type": "code",
   "execution_count": 35,
   "metadata": {},
   "outputs": [],
   "source": [
    "from keras.callbacks import ModelCheckpoint\n",
    "\n",
    "import numpy\n",
    "import math\n",
    "import cv2\n",
    "import time\n",
    "\n",
    "from utility.h5data import h5DataRead"
   ]
  },
  {
   "cell_type": "code",
   "execution_count": 36,
   "metadata": {},
   "outputs": [],
   "source": [
    "DNN = \"srcnn\"\n",
    "\n",
    "EPOCHS = 4\n",
    "BATCH_SIZE = 128\n",
    "\n",
    "SCALE = 4\n",
    "SIZE_PATCH = 32\n",
    "SIZE_CONV = 7\n",
    "\n",
    "FILENAME_TRAIN = \"yayoi_dataTrain_\" + str(SCALE) + \"_\"+ str(SIZE_PATCH) + \"_\"+ str(SIZE_CONV) + \".h5\"\n",
    "FILENAME_VALIDATE = \"yayoi_dataValidate_\" + str(SCALE) + \"_\"+ str(SIZE_PATCH) + \"_\"+ str(SIZE_CONV) + \".h5\"\n",
    "FILENAME_CHECKPOINT = \"dataCheckPoint_\" + DNN + \"_\" + str(SCALE) + \".h5\""
   ]
  },
  {
   "cell_type": "code",
   "execution_count": 37,
   "metadata": {},
   "outputs": [],
   "source": [
    "# dnn configuration for srcnn\n",
    "from network.srcnn import srcnn\n",
    "dnn = srcnn()\n",
    "dnn.layers = 4\n",
    "dnn.filter = [128, 64, 64, 1]\n",
    "dnn.kernelSize =  [(11,11), (3,3), (3,3), (5,5)]\n",
    "dnn.in_train = True"
   ]
  },
  {
   "cell_type": "raw",
   "metadata": {},
   "source": [
    "# dnn configuration for waifu2x\n",
    "from network.waifu2x import waifu2x\n",
    "dnn = waifu2x()\n",
    "dnn.in_train = True"
   ]
  },
  {
   "cell_type": "code",
   "execution_count": 38,
   "metadata": {},
   "outputs": [],
   "source": [
    "tick1 = cv2.getTickCount()"
   ]
  },
  {
   "cell_type": "code",
   "execution_count": 39,
   "metadata": {
    "scrolled": false
   },
   "outputs": [
    {
     "name": "stdout",
     "output_type": "stream",
     "text": [
      "_________________________________________________________________\n",
      "Layer (type)                 Output Shape              Param #   \n",
      "=================================================================\n",
      "conv2d_30 (Conv2D)           (None, 22, 22, 128)       15616     \n",
      "_________________________________________________________________\n",
      "conv2d_31 (Conv2D)           (None, 22, 22, 64)        73792     \n",
      "_________________________________________________________________\n",
      "conv2d_32 (Conv2D)           (None, 22, 22, 64)        36928     \n",
      "_________________________________________________________________\n",
      "conv2d_33 (Conv2D)           (None, 18, 18, 1)         1601      \n",
      "=================================================================\n",
      "Total params: 127,937\n",
      "Trainable params: 127,937\n",
      "Non-trainable params: 0\n",
      "_________________________________________________________________\n",
      "None\n",
      "Train on 3200 samples, validate on 750 samples\n",
      "Epoch 1/4\n",
      "3200/3200 [==============================] - 145s 45ms/step - loss: 0.0163 - mean_squared_error: 0.0163 - val_loss: 2.8175e-04 - val_mean_squared_error: 2.8174e-04\n",
      "\n",
      "Epoch 00001: val_loss improved from inf to 0.00028, saving model to dataCheckPoint_4.h5\n",
      "Epoch 2/4\n",
      "3200/3200 [==============================] - 149s 47ms/step - loss: 0.0026 - mean_squared_error: 0.0026 - val_loss: 1.1298e-04 - val_mean_squared_error: 1.1298e-04\n",
      "\n",
      "Epoch 00002: val_loss improved from 0.00028 to 0.00011, saving model to dataCheckPoint_4.h5\n",
      "Epoch 3/4\n",
      "3200/3200 [==============================] - 143s 45ms/step - loss: 0.0016 - mean_squared_error: 0.0016 - val_loss: 4.1878e-05 - val_mean_squared_error: 4.1880e-05\n",
      "\n",
      "Epoch 00003: val_loss improved from 0.00011 to 0.00004, saving model to dataCheckPoint_4.h5\n",
      "Epoch 4/4\n",
      "3200/3200 [==============================] - 148s 46ms/step - loss: 0.0011 - mean_squared_error: 0.0011 - val_loss: 3.8176e-05 - val_mean_squared_error: 3.8175e-05\n",
      "\n",
      "Epoch 00004: val_loss improved from 0.00004 to 0.00004, saving model to dataCheckPoint_4.h5\n"
     ]
    },
    {
     "data": {
      "text/plain": [
       "<keras.callbacks.History at 0x7fcee50f7320>"
      ]
     },
     "execution_count": 39,
     "metadata": {},
     "output_type": "execute_result"
    }
   ],
   "source": [
    "model = dnn.network()\n",
    "print(model.summary())\n",
    "data, label = h5DataRead(FILENAME_TRAIN)\n",
    "val_data, val_label = h5DataRead(FILENAME_VALIDATE)\n",
    "\n",
    "checkpoint = ModelCheckpoint(FILENAME_CHECKPOINT, monitor='val_loss', verbose=1, save_best_only=True,\n",
    "                             save_weights_only=False, mode='min')\n",
    "\n",
    "callbacks_list = [checkpoint]\n",
    "\n",
    "model.fit(data, label, batch_size=BATCH_SIZE, validation_data=(val_data, val_label),\n",
    "                callbacks=callbacks_list, shuffle=True, epochs=EPOCHS, verbose=1)"
   ]
  },
  {
   "cell_type": "code",
   "execution_count": 40,
   "metadata": {},
   "outputs": [
    {
     "name": "stdout",
     "output_type": "stream",
     "text": [
      "750/750 [==============================] - 14s 18ms/step\n",
      "Test loss: 3.81764024423e-05\n",
      "Test accuracy: 3.81763743571e-05\n"
     ]
    }
   ],
   "source": [
    "score = model.evaluate(val_data, val_label, verbose=1)\n",
    "print('Test loss:', score[0])\n",
    "print('Test accuracy:', score[1])"
   ]
  },
  {
   "cell_type": "code",
   "execution_count": 41,
   "metadata": {},
   "outputs": [
    {
     "name": "stdout",
     "output_type": "stream",
     "text": [
      "yayoi_4_2018-07-13_092157.h5 saved\n"
     ]
    }
   ],
   "source": [
    "fileName = 'yayoi_' + DNN + \"_\" + str(SCALE) + \"_\" + time.strftime(\"%Y-%m-%d_%H%M%S\", time.localtime()) + '.h5'\n",
    "model.save_weights(fileName)\n",
    "print(fileName + ' saved')"
   ]
  },
  {
   "cell_type": "code",
   "execution_count": 52,
   "metadata": {},
   "outputs": [
    {
     "name": "stdout",
     "output_type": "stream",
     "text": [
      "Training processed time: 49 secs 112 ms\n"
     ]
    }
   ],
   "source": [
    "tick2 = cv2.getTickCount()\n",
    "tick = math.floor( ((tick2 - tick1) * 1000) / cv2.getTickFrequency())\n",
    "\n",
    "if tick >= 60000:\n",
    "    mins = math.floor(tick / 60000)\n",
    "    secs = math.floor((tick - mins * 60000) / 1000)\n",
    "    msec = tick - mins * 60000 - secs * 1000\n",
    "    print(\"Training processed time: \" + str(mins) + \" mins \" + str(secs) + \" secs \" + str(msec) + \" ms\")\n",
    "elif tick >= 1000:\n",
    "    secs = math.floor(tick / 1000)\n",
    "    msec = tick - secs * 1000\n",
    "    print(\"Training processed time: \" + str(secs) + \" secs \" + str(msec) + \" ms\")\n",
    "else:\n",
    "    print(\"Training processed time: \" + str(tick) + \" ms\")"
   ]
  },
  {
   "cell_type": "code",
   "execution_count": 53,
   "metadata": {},
   "outputs": [],
   "source": [
    "from matplotlib import pyplot as plt\n",
    "%matplotlib inline\n",
    "import seaborn as sns"
   ]
  },
  {
   "cell_type": "code",
   "execution_count": 54,
   "metadata": {},
   "outputs": [],
   "source": [
    "tick1 = cv2.getTickCount()\n",
    "\n",
    "IMG_NAME = \"./imageTrain/yayoi_first_030.png\"\n",
    "IMG_OPENCV_NAME = \"opencv.png\"\n",
    "IMG_DNN_NAME = DNN + \".png\"\n",
    "\n",
    "INTERPOLATION = cv2.INTER_CUBIC\n",
    "SIZE_CONV = 7"
   ]
  },
  {
   "cell_type": "code",
   "execution_count": 55,
   "metadata": {},
   "outputs": [
    {
     "name": "stdout",
     "output_type": "stream",
     "text": [
      "_________________________________________________________________\n",
      "Layer (type)                 Output Shape              Param #   \n",
      "=================================================================\n",
      "conv2d_42 (Conv2D)           (None, None, None, 128)   15616     \n",
      "_________________________________________________________________\n",
      "conv2d_43 (Conv2D)           (None, None, None, 64)    73792     \n",
      "_________________________________________________________________\n",
      "conv2d_44 (Conv2D)           (None, None, None, 64)    36928     \n",
      "_________________________________________________________________\n",
      "conv2d_45 (Conv2D)           (None, None, None, 1)     1601      \n",
      "=================================================================\n",
      "Total params: 127,937\n",
      "Trainable params: 127,937\n",
      "Non-trainable params: 0\n",
      "_________________________________________________________________\n",
      "None\n"
     ]
    }
   ],
   "source": [
    "dnn.in_train = False\n",
    "model = dnn.network()\n",
    "model.load_weights(fileName)\n",
    "print(model.summary())"
   ]
  },
  {
   "cell_type": "code",
   "execution_count": 56,
   "metadata": {},
   "outputs": [
    {
     "data": {
      "text/plain": [
       "True"
      ]
     },
     "execution_count": 56,
     "metadata": {},
     "output_type": "execute_result"
    }
   ],
   "source": [
    "img = cv2.imread(IMG_NAME, cv2.IMREAD_COLOR)\n",
    "img = cv2.cvtColor(img, cv2.COLOR_BGR2YCrCb)\n",
    "shape = img.shape\n",
    "\n",
    "Y_img = cv2.resize(img[:, :, 0], (int(shape[1] * SCALE), int(shape[0] * SCALE)), INTERPOLATION)\n",
    "img = cv2.resize(img, (int(shape[1] * SCALE), int(shape[0] * SCALE)), INTERPOLATION)\n",
    "\n",
    "#Y_img = cv2.resize(img[:, :, 0], (int(shape[1] / sizeMux), int(shape[0] / sizeMux)), cv2.INTER_CUBIC)\n",
    "#Y_img = cv2.resize(Y_img, (shape[1], shape[0]), cv2.INTER_CUBIC)\n",
    "#img[:, :, 0] = Y_img\n",
    "\n",
    "img = cv2.cvtColor(img, cv2.COLOR_YCrCb2BGR)\n",
    "cv2.imwrite(IMG_OPENCV_NAME, img, [int(cv2.IMWRITE_PNG_COMPRESSION), 0])"
   ]
  },
  {
   "cell_type": "code",
   "execution_count": 57,
   "metadata": {},
   "outputs": [
    {
     "data": {
      "text/plain": [
       "True"
      ]
     },
     "execution_count": 57,
     "metadata": {},
     "output_type": "execute_result"
    }
   ],
   "source": [
    "Y = numpy.zeros((1, img.shape[0], img.shape[1], 1), dtype=float)\n",
    "Y[0, :, :, 0] = Y_img.astype(float) / 255.\n",
    "\n",
    "pre = model.predict(Y, batch_size=1) * 255.\n",
    "pre[pre[:] > 255] = 255\n",
    "pre[pre[:] < 0] = 0\n",
    "\n",
    "pre = pre.astype(numpy.uint8)\n",
    "img = cv2.cvtColor(img, cv2.COLOR_BGR2YCrCb)\n",
    "\n",
    "if SIZE_CONV > 0:\n",
    "    img[SIZE_CONV: -SIZE_CONV, SIZE_CONV: -SIZE_CONV, 0] = pre[0, :, :, 0]\n",
    "else:\n",
    "    img[2:-2, 2:-2, 0] = pre[0, :, :, 0]\n",
    "\n",
    "img = cv2.cvtColor(img, cv2.COLOR_YCrCb2BGR)\n",
    "cv2.imwrite(IMG_DNN_NAME, img, [int(cv2.IMWRITE_PNG_COMPRESSION), 0])"
   ]
  },
  {
   "cell_type": "code",
   "execution_count": 60,
   "metadata": {},
   "outputs": [],
   "source": [
    "# display image\n",
    "pltShow = False\n",
    "\n",
    "if pltShow:\n",
    "    im1 = cv2.imread(IMG_NAME, cv2.IMREAD_COLOR)\n",
    "    im1 = cv2.cvtColor(im1, cv2.COLOR_BGR2RGB)\n",
    "    im2 = cv2.imread(OPENCV_NAME, cv2.IMREAD_COLOR)\n",
    "    im2 = cv2.cvtColor(im2, cv2.COLOR_BGR2RGB)\n",
    "    im3 = cv2.imread(SRCNN_NAME, cv2.IMREAD_COLOR)\n",
    "    im3 = cv2.cvtColor(im3, cv2.COLOR_BGR2RGB)\n",
    "    \n",
    "    plt.figure(num='comparison',figsize=(16,16))\n",
    "\n",
    "    plt.subplot(1,3,1)\n",
    "    plt.title('origin image')\n",
    "    plt.imshow(im1)\n",
    "\n",
    "    plt.subplot(1,3,2)\n",
    "    plt.title('OpenCV')\n",
    "    plt.imshow(im2)\n",
    "\n",
    "    plt.subplot(1,3,3)\n",
    "    plt.title(DNN)\n",
    "    plt.imshow(im3)"
   ]
  },
  {
   "cell_type": "code",
   "execution_count": 61,
   "metadata": {},
   "outputs": [
    {
     "name": "stdout",
     "output_type": "stream",
     "text": [
      "processed time: 3 mins 56 secs 521 ms\n"
     ]
    }
   ],
   "source": [
    "tick2 = cv2.getTickCount()\n",
    "tick = math.floor( ((tick2 - tick1) * 1000) / cv2.getTickFrequency())\n",
    "\n",
    "if tick >= 60000:\n",
    "    mins = math.floor(tick / 60000)\n",
    "    secs = math.floor((tick - mins * 60000) / 1000)\n",
    "    msec = tick - mins * 60000 - secs * 1000\n",
    "    print(\"Inference processed time: \" + str(mins) + \" mins \" + str(secs) + \" secs \" + str(msec) + \" ms\")\n",
    "elif tick >= 1000:\n",
    "    secs = math.floor(tick / 1000)\n",
    "    msec = tick - secs * 1000\n",
    "    print(\"Inference processed time: \" + str(secs) + \" secs \" + str(msec) + \" ms\")\n",
    "else:\n",
    "    print(\"Inference processed time: \" + str(tick) + \" ms\")"
   ]
  }
 ],
 "metadata": {
  "kernelspec": {
   "display_name": "Python 3",
   "language": "python",
   "name": "python3"
  },
  "language_info": {
   "codemirror_mode": {
    "name": "ipython",
    "version": 3
   },
   "file_extension": ".py",
   "mimetype": "text/x-python",
   "name": "python",
   "nbconvert_exporter": "python",
   "pygments_lexer": "ipython3",
   "version": "3.6.5"
  }
 },
 "nbformat": 4,
 "nbformat_minor": 2
}
