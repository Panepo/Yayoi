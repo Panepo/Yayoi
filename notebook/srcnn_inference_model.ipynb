{
 "cells": [
  {
   "cell_type": "code",
   "execution_count": 1,
   "metadata": {},
   "outputs": [
    {
     "name": "stderr",
     "output_type": "stream",
     "text": [
      "/opt/conda/lib/python3.6/site-packages/h5py/__init__.py:36: FutureWarning: Conversion of the second argument of issubdtype from `float` to `np.floating` is deprecated. In future, it will be treated as `np.float64 == np.dtype(float).type`.\n",
      "  from ._conv import register_converters as _register_converters\n",
      "Using TensorFlow backend.\n"
     ]
    }
   ],
   "source": [
    "from network.srcnn import srcnn\n",
    "import tensorflow as tf\n",
    "\n",
    "import os\n",
    "import numpy\n",
    "import math\n",
    "import cv2\n",
    "\n",
    "from matplotlib import pyplot as plt\n",
    "%matplotlib inline\n",
    "import seaborn as sns"
   ]
  },
  {
   "cell_type": "markdown",
   "metadata": {},
   "source": [
    "### Inference config"
   ]
  },
  {
   "cell_type": "code",
   "execution_count": 2,
   "metadata": {},
   "outputs": [],
   "source": [
    "#IMG_NAME = \"./imageValidate/yayoi_first_087.png\"\n",
    "#IMG_NAME = \"./imageValidate2/comic.bmp\"\n",
    "IMG_NAME = \"./imageValidate2/butterfly_GT.bmp\"\n",
    "\n",
    "\n",
    "IMG_OPENCV_NAME = \"opencv.png\"\n",
    "IMG_DNN_NAME = \"srcnn.png\"\n",
    "\n",
    "INTERPOLATION = cv2.INTER_CUBIC\n",
    "SCALE = 2\n",
    "SIZE_CONV = 6\n",
    "\n",
    "FILEPATH_MODEL = \"./model/\"\n",
    "FILENAME_MODEL = \"yayoi_srcnn_935_2x_model.h5\"\n",
    "\n",
    "PSNR = True"
   ]
  },
  {
   "cell_type": "markdown",
   "metadata": {},
   "source": [
    "### OpenCV interpolation methods\n",
    "INTER_NEAREST - a nearest-neighbor interpolation<br>\n",
    "INTER_LINEAR - a bilinear interpolation (used by default)<br>\n",
    "INTER_AREA - resampling using pixel area relation. It may be a preferred method for image decimation, as it gives moire’-free results. But when the image is zoomed, it is similar to the INTER_NEAREST method.<br>\n",
    "INTER_CUBIC - a bicubic interpolation over 4x4 pixel neighborhood<br>\n",
    "INTER_LANCZOS4 - a Lanczos interpolation over 8x8 pixel neighborhood<br>"
   ]
  },
  {
   "cell_type": "code",
   "execution_count": 3,
   "metadata": {},
   "outputs": [
    {
     "name": "stdout",
     "output_type": "stream",
     "text": [
      "_________________________________________________________________\n",
      "Layer (type)                 Output Shape              Param #   \n",
      "=================================================================\n",
      "conv2d_4 (Conv2D)            (None, None, None, 128)   10496     \n",
      "_________________________________________________________________\n",
      "conv2d_5 (Conv2D)            (None, None, None, 64)    73792     \n",
      "_________________________________________________________________\n",
      "conv2d_6 (Conv2D)            (None, None, None, 1)     1601      \n",
      "=================================================================\n",
      "Total params: 85,889\n",
      "Trainable params: 85,889\n",
      "Non-trainable params: 0\n",
      "_________________________________________________________________\n",
      "None\n"
     ]
    }
   ],
   "source": [
    "model = tf.keras.models.load_model(FILEPATH_MODEL + FILENAME_MODEL, compile=False)\n",
    "print(model.summary())"
   ]
  },
  {
   "cell_type": "code",
   "execution_count": 4,
   "metadata": {},
   "outputs": [],
   "source": [
    "tick1 = cv2.getTickCount()"
   ]
  },
  {
   "cell_type": "code",
   "execution_count": 5,
   "metadata": {},
   "outputs": [
    {
     "data": {
      "text/plain": [
       "True"
      ]
     },
     "execution_count": 5,
     "metadata": {},
     "output_type": "execute_result"
    }
   ],
   "source": [
    "img = cv2.imread(IMG_NAME, cv2.IMREAD_COLOR)\n",
    "img = cv2.cvtColor(img, cv2.COLOR_BGR2YCrCb)\n",
    "shape = img.shape\n",
    "\n",
    "if PSNR:\n",
    "    Y_img = cv2.resize(img[:, :, 0], (int(shape[1] / SCALE), int(shape[0] / SCALE)), INTERPOLATION)\n",
    "    Y_img = cv2.resize(Y_img, (shape[1], shape[0]), INTERPOLATION)\n",
    "    img[:, :, 0] = Y_img\n",
    "else:\n",
    "    Y_img = cv2.resize(img[:, :, 0], (int(shape[1] * SCALE), int(shape[0] * SCALE)), INTERPOLATION)\n",
    "    img = cv2.resize(img, (int(shape[1] * SCALE), int(shape[0] * SCALE)), INTERPOLATION)\n",
    "\n",
    "img = cv2.cvtColor(img, cv2.COLOR_YCrCb2BGR)\n",
    "cv2.imwrite(IMG_OPENCV_NAME, img, [int(cv2.IMWRITE_PNG_COMPRESSION), 0])"
   ]
  },
  {
   "cell_type": "code",
   "execution_count": 6,
   "metadata": {},
   "outputs": [
    {
     "data": {
      "text/plain": [
       "True"
      ]
     },
     "execution_count": 6,
     "metadata": {},
     "output_type": "execute_result"
    }
   ],
   "source": [
    "Y = numpy.zeros((1, img.shape[0], img.shape[1], 1), dtype=float)\n",
    "Y[0, :, :, 0] = Y_img.astype(float) / 255.\n",
    "\n",
    "pre = model.predict(Y, batch_size=1) * 255.\n",
    "pre[pre[:] > 255] = 255\n",
    "pre[pre[:] < 0] = 0\n",
    "pre = pre.astype(numpy.uint8)\n",
    "img = cv2.cvtColor(img, cv2.COLOR_BGR2YCrCb)\n",
    "img[SIZE_CONV: -SIZE_CONV, SIZE_CONV: -SIZE_CONV, 0] = pre[0, :, :, 0]\n",
    "\n",
    "img = cv2.cvtColor(img, cv2.COLOR_YCrCb2BGR)\n",
    "cv2.imwrite(IMG_DNN_NAME, img, [int(cv2.IMWRITE_PNG_COMPRESSION), 0])"
   ]
  },
  {
   "cell_type": "code",
   "execution_count": 7,
   "metadata": {},
   "outputs": [
    {
     "name": "stdout",
     "output_type": "stream",
     "text": [
      "opencv:\n",
      "24.752688689253347\n",
      "srcnn:\n",
      "29.741241339454547\n"
     ]
    }
   ],
   "source": [
    "im1 = cv2.imread(IMG_NAME, cv2.IMREAD_COLOR)\n",
    "im1 = cv2.cvtColor(im1, cv2.COLOR_BGR2RGB)\n",
    "im2 = cv2.imread(IMG_OPENCV_NAME, cv2.IMREAD_COLOR)\n",
    "im2 = cv2.cvtColor(im2, cv2.COLOR_BGR2RGB)\n",
    "im3 = cv2.imread(IMG_DNN_NAME, cv2.IMREAD_COLOR)\n",
    "im3 = cv2.cvtColor(im3, cv2.COLOR_BGR2RGB)\n",
    "\n",
    "if PSNR:\n",
    "    print(\"opencv:\")\n",
    "    print(cv2.PSNR(im1, im2))\n",
    "    print(\"srcnn:\")\n",
    "    print(cv2.PSNR(im1, im3))"
   ]
  },
  {
   "cell_type": "code",
   "execution_count": 8,
   "metadata": {
    "scrolled": true
   },
   "outputs": [],
   "source": [
    "# display image\n",
    "pltShow = False\n",
    "\n",
    "if pltShow:    \n",
    "    plt.figure(num='comparison',figsize=(16,16))\n",
    "\n",
    "    plt.subplot(1,3,1)\n",
    "    plt.title('origin image')\n",
    "    plt.imshow(im1)\n",
    "\n",
    "    plt.subplot(1,3,2)\n",
    "    plt.title('OpenCV')\n",
    "    plt.imshow(im2)\n",
    "\n",
    "    plt.subplot(1,3,3)\n",
    "    plt.title(\"srcnn\")\n",
    "    plt.imshow(im3)"
   ]
  },
  {
   "cell_type": "code",
   "execution_count": 9,
   "metadata": {},
   "outputs": [
    {
     "name": "stdout",
     "output_type": "stream",
     "text": [
      "Inference processed time: 1 secs 132 ms\n"
     ]
    }
   ],
   "source": [
    "tick2 = cv2.getTickCount()\n",
    "tick = math.floor( ((tick2 - tick1) * 1000) / cv2.getTickFrequency())\n",
    "\n",
    "if tick >= 60000:\n",
    "    mins = math.floor(tick / 60000)\n",
    "    secs = math.floor((tick - mins * 60000) / 1000)\n",
    "    msec = tick - mins * 60000 - secs * 1000\n",
    "    print(\"Inference processed time: \" + str(mins) + \" mins \" + str(secs) + \" secs \" + str(msec) + \" ms\")\n",
    "elif tick >= 1000:\n",
    "    secs = math.floor(tick / 1000)\n",
    "    msec = tick - secs * 1000\n",
    "    print(\"Inference processed time: \" + str(secs) + \" secs \" + str(msec) + \" ms\")\n",
    "else:\n",
    "    print(\"Inference processed time: \" + str(tick) + \" ms\")"
   ]
  },
  {
   "cell_type": "markdown",
   "metadata": {},
   "source": [
    "### Export to tfjs"
   ]
  },
  {
   "cell_type": "code",
   "execution_count": 10,
   "metadata": {},
   "outputs": [],
   "source": [
    "tfjsExport = False\n",
    "\n",
    "if tfjsExport:\n",
    "    import tensorflowjs as tfjs\n",
    "    FILEPATH_TFJS = \"./tfjs\"\n",
    "    \n",
    "    tfjs.converters.save_keras_model(loaded_model, FILEPATH_TFJS)\n",
    "    print(FILEPATH_TFJS + \" save complete\")"
   ]
  }
 ],
 "metadata": {
  "kernelspec": {
   "display_name": "Python 3",
   "language": "python",
   "name": "python3"
  },
  "language_info": {
   "codemirror_mode": {
    "name": "ipython",
    "version": 3
   },
   "file_extension": ".py",
   "mimetype": "text/x-python",
   "name": "python",
   "nbconvert_exporter": "python",
   "pygments_lexer": "ipython3",
   "version": "3.6.5"
  }
 },
 "nbformat": 4,
 "nbformat_minor": 2
}
